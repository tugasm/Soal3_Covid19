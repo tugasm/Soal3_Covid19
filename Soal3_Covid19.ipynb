{
 "cells": [
  {
   "cell_type": "code",
   "execution_count": null,
   "metadata": {},
   "outputs": [],
   "source": [
    "from bs4 import BeautifulSoup\n",
    "import requests\n",
    "import folium as fo\n",
    "import pandas as pd\n",
    "\n",
    "url = \"https://en.wikipedia.org/wiki/2020_coronavirus_pandemic_in_Indonesia\"\n",
    "x = requests.get(url)\n",
    "datacorona = pd.read_html(x.text)\n",
    "prov = requests.get(\n",
    "    \"https://raw.githubusercontent.com/LintangWisesa/Indonesia-Covid19-Maps/master/data/gps_indonesia.json\"\n",
    ")\n",
    "pv = prov.json()\n",
    "peta = fo.Map(location=[-1.6948082, 106.238069], zoom_start=4.58)\n",
    "\n",
    "for i in range(len(pv)):\n",
    "    icona = fo.features.CustomIcon(pv[i][\"logo\"], icon_size=(30,30))\n",
    "\n",
    "    fo.Marker(\n",
    "        popup=\"<h4><b>\"\n",
    "        + pv[i][\"Provinsi\"]\n",
    "        + \"</b></h4><table><tbody><tr><th style='color:red'>Confirmed&nbsp;&nbsp;</th><th style='color:green'>Recovered&nbsp;&nbsp;</th><th style='color:black'>Deaths&nbsp;&nbsp;</th></tr><tr><td><center><b style='color:red'>\"\n",
    "        + datacorona[3][\"Confirmed\"][\"1330\"][i]\n",
    "        + \"</b></center></td><td><center><b style='color:green'>\"\n",
    "        + datacorona[3][\"Recovered\"][\"64\"][i]\n",
    "        + \"</b></center></td><td><center><b>\"\n",
    "        + datacorona[3][\"Deaths\"][\"114\"][i]\n",
    "        + \"</b></center></td></tr></tbody></table>\",\n",
    "        location=[pv[i][\"latitude\"], pv[i][\"longitude\"]],\n",
    "        tooltip=pv[i][\"Provinsi\"],\n",
    "        icon=icona,\n",
    "        legend_name=\"Indonesia Covid-19\"\n",
    "    ).add_to(peta)\n",
    "\n",
    "peta.save(\"petacovid.html\")"
   ]
  }
 ],
 "metadata": {
  "kernelspec": {
   "display_name": "Python 3",
   "language": "python",
   "name": "python3"
  },
  "language_info": {
   "codemirror_mode": {
    "name": "ipython",
    "version": 3
   },
   "file_extension": ".py",
   "mimetype": "text/x-python",
   "name": "python",
   "nbconvert_exporter": "python",
   "pygments_lexer": "ipython3",
   "version": "3.7.4"
  }
 },
 "nbformat": 4,
 "nbformat_minor": 4
}
